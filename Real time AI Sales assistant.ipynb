{
 "cells": [
  {
   "cell_type": "code",
   "execution_count": 1,
   "id": "33dc8a1d-3690-4bc3-bd3f-57a229993be3",
   "metadata": {},
   "outputs": [
    {
     "name": "stdout",
     "output_type": "stream",
     "text": [
      "Requirement already satisfied: transformers in c:\\users\\dell\\appdata\\local\\programs\\python\\python312\\lib\\site-packages (4.44.2)\n",
      "Requirement already satisfied: filelock in c:\\users\\dell\\appdata\\local\\programs\\python\\python312\\lib\\site-packages (from transformers) (3.16.0)\n",
      "Requirement already satisfied: huggingface-hub<1.0,>=0.23.2 in c:\\users\\dell\\appdata\\local\\programs\\python\\python312\\lib\\site-packages (from transformers) (0.27.0)\n",
      "Requirement already satisfied: numpy>=1.17 in c:\\users\\dell\\appdata\\local\\programs\\python\\python312\\lib\\site-packages (from transformers) (1.26.4)\n",
      "Requirement already satisfied: packaging>=20.0 in c:\\users\\dell\\appdata\\local\\programs\\python\\python312\\lib\\site-packages (from transformers) (24.1)\n",
      "Requirement already satisfied: pyyaml>=5.1 in c:\\users\\dell\\appdata\\local\\programs\\python\\python312\\lib\\site-packages (from transformers) (6.0.1)\n",
      "Requirement already satisfied: regex!=2019.12.17 in c:\\users\\dell\\appdata\\local\\programs\\python\\python312\\lib\\site-packages (from transformers) (2024.7.24)\n",
      "Requirement already satisfied: requests in c:\\users\\dell\\appdata\\local\\programs\\python\\python312\\lib\\site-packages (from transformers) (2.32.3)\n",
      "Requirement already satisfied: safetensors>=0.4.1 in c:\\users\\dell\\appdata\\local\\programs\\python\\python312\\lib\\site-packages (from transformers) (0.4.5)\n",
      "Requirement already satisfied: tokenizers<0.20,>=0.19 in c:\\users\\dell\\appdata\\local\\programs\\python\\python312\\lib\\site-packages (from transformers) (0.19.1)\n",
      "Requirement already satisfied: tqdm>=4.27 in c:\\users\\dell\\appdata\\local\\programs\\python\\python312\\lib\\site-packages (from transformers) (4.66.5)\n",
      "Requirement already satisfied: fsspec>=2023.5.0 in c:\\users\\dell\\appdata\\local\\programs\\python\\python312\\lib\\site-packages (from huggingface-hub<1.0,>=0.23.2->transformers) (2024.9.0)\n",
      "Requirement already satisfied: typing-extensions>=3.7.4.3 in c:\\users\\dell\\appdata\\local\\programs\\python\\python312\\lib\\site-packages (from huggingface-hub<1.0,>=0.23.2->transformers) (4.12.2)\n",
      "Requirement already satisfied: colorama in c:\\users\\dell\\appdata\\local\\programs\\python\\python312\\lib\\site-packages (from tqdm>=4.27->transformers) (0.4.6)\n",
      "Requirement already satisfied: charset-normalizer<4,>=2 in c:\\users\\dell\\appdata\\local\\programs\\python\\python312\\lib\\site-packages (from requests->transformers) (3.3.2)\n",
      "Requirement already satisfied: idna<4,>=2.5 in c:\\users\\dell\\appdata\\local\\programs\\python\\python312\\lib\\site-packages (from requests->transformers) (3.7)\n",
      "Requirement already satisfied: urllib3<3,>=1.21.1 in c:\\users\\dell\\appdata\\local\\programs\\python\\python312\\lib\\site-packages (from requests->transformers) (2.2.2)\n",
      "Requirement already satisfied: certifi>=2017.4.17 in c:\\users\\dell\\appdata\\local\\programs\\python\\python312\\lib\\site-packages (from requests->transformers) (2024.7.4)\n",
      "Note: you may need to restart the kernel to use updated packages.\n"
     ]
    },
    {
     "name": "stderr",
     "output_type": "stream",
     "text": [
      "\n",
      "[notice] A new release of pip is available: 24.0 -> 24.3.1\n",
      "[notice] To update, run: python.exe -m pip install --upgrade pip\n"
     ]
    }
   ],
   "source": [
    "pip install transformers"
   ]
  },
  {
   "cell_type": "code",
   "execution_count": 2,
   "id": "91d4be61-ef85-4768-a188-d028fe525975",
   "metadata": {},
   "outputs": [
    {
     "name": "stdout",
     "output_type": "stream",
     "text": [
      "Requirement already satisfied: transformers in c:\\users\\dell\\appdata\\local\\programs\\python\\python312\\lib\\site-packages (4.44.2)\n",
      "Requirement already satisfied: torch in c:\\users\\dell\\appdata\\local\\programs\\python\\python312\\lib\\site-packages (2.5.1+cpu)\n",
      "Requirement already satisfied: filelock in c:\\users\\dell\\appdata\\local\\programs\\python\\python312\\lib\\site-packages (from transformers) (3.16.0)\n",
      "Requirement already satisfied: huggingface-hub<1.0,>=0.23.2 in c:\\users\\dell\\appdata\\local\\programs\\python\\python312\\lib\\site-packages (from transformers) (0.27.0)\n",
      "Requirement already satisfied: numpy>=1.17 in c:\\users\\dell\\appdata\\local\\programs\\python\\python312\\lib\\site-packages (from transformers) (1.26.4)\n",
      "Requirement already satisfied: packaging>=20.0 in c:\\users\\dell\\appdata\\local\\programs\\python\\python312\\lib\\site-packages (from transformers) (24.1)\n",
      "Requirement already satisfied: pyyaml>=5.1 in c:\\users\\dell\\appdata\\local\\programs\\python\\python312\\lib\\site-packages (from transformers) (6.0.1)\n",
      "Requirement already satisfied: regex!=2019.12.17 in c:\\users\\dell\\appdata\\local\\programs\\python\\python312\\lib\\site-packages (from transformers) (2024.7.24)\n",
      "Requirement already satisfied: requests in c:\\users\\dell\\appdata\\local\\programs\\python\\python312\\lib\\site-packages (from transformers) (2.32.3)\n",
      "Requirement already satisfied: safetensors>=0.4.1 in c:\\users\\dell\\appdata\\local\\programs\\python\\python312\\lib\\site-packages (from transformers) (0.4.5)\n",
      "Requirement already satisfied: tokenizers<0.20,>=0.19 in c:\\users\\dell\\appdata\\local\\programs\\python\\python312\\lib\\site-packages (from transformers) (0.19.1)\n",
      "Requirement already satisfied: tqdm>=4.27 in c:\\users\\dell\\appdata\\local\\programs\\python\\python312\\lib\\site-packages (from transformers) (4.66.5)\n",
      "Requirement already satisfied: typing-extensions>=4.8.0 in c:\\users\\dell\\appdata\\local\\programs\\python\\python312\\lib\\site-packages (from torch) (4.12.2)\n",
      "Requirement already satisfied: networkx in c:\\users\\dell\\appdata\\local\\programs\\python\\python312\\lib\\site-packages (from torch) (3.3)\n",
      "Requirement already satisfied: jinja2 in c:\\users\\dell\\appdata\\local\\programs\\python\\python312\\lib\\site-packages (from torch) (3.1.4)\n",
      "Requirement already satisfied: fsspec in c:\\users\\dell\\appdata\\local\\programs\\python\\python312\\lib\\site-packages (from torch) (2024.9.0)\n",
      "Requirement already satisfied: setuptools in c:\\users\\dell\\appdata\\local\\programs\\python\\python312\\lib\\site-packages (from torch) (71.1.0)\n",
      "Requirement already satisfied: sympy==1.13.1 in c:\\users\\dell\\appdata\\local\\programs\\python\\python312\\lib\\site-packages (from torch) (1.13.1)\n",
      "Requirement already satisfied: mpmath<1.4,>=1.1.0 in c:\\users\\dell\\appdata\\local\\programs\\python\\python312\\lib\\site-packages (from sympy==1.13.1->torch) (1.3.0)\n",
      "Requirement already satisfied: colorama in c:\\users\\dell\\appdata\\local\\programs\\python\\python312\\lib\\site-packages (from tqdm>=4.27->transformers) (0.4.6)\n",
      "Requirement already satisfied: MarkupSafe>=2.0 in c:\\users\\dell\\appdata\\local\\programs\\python\\python312\\lib\\site-packages (from jinja2->torch) (2.1.5)\n",
      "Requirement already satisfied: charset-normalizer<4,>=2 in c:\\users\\dell\\appdata\\local\\programs\\python\\python312\\lib\\site-packages (from requests->transformers) (3.3.2)\n",
      "Requirement already satisfied: idna<4,>=2.5 in c:\\users\\dell\\appdata\\local\\programs\\python\\python312\\lib\\site-packages (from requests->transformers) (3.7)\n",
      "Requirement already satisfied: urllib3<3,>=1.21.1 in c:\\users\\dell\\appdata\\local\\programs\\python\\python312\\lib\\site-packages (from requests->transformers) (2.2.2)\n",
      "Requirement already satisfied: certifi>=2017.4.17 in c:\\users\\dell\\appdata\\local\\programs\\python\\python312\\lib\\site-packages (from requests->transformers) (2024.7.4)\n",
      "Note: you may need to restart the kernel to use updated packages.\n"
     ]
    },
    {
     "name": "stderr",
     "output_type": "stream",
     "text": [
      "\n",
      "[notice] A new release of pip is available: 24.0 -> 24.3.1\n",
      "[notice] To update, run: python.exe -m pip install --upgrade pip\n"
     ]
    }
   ],
   "source": [
    "pip install transformers torch"
   ]
  },
  {
   "cell_type": "code",
   "execution_count": 3,
   "id": "01e32694-aa41-4e83-b763-73d86f514dd5",
   "metadata": {},
   "outputs": [
    {
     "name": "stdout",
     "output_type": "stream",
     "text": [
      "Requirement already satisfied: huggingface_hub in c:\\users\\dell\\appdata\\local\\programs\\python\\python312\\lib\\site-packages (0.27.0)\n",
      "Requirement already satisfied: filelock in c:\\users\\dell\\appdata\\local\\programs\\python\\python312\\lib\\site-packages (from huggingface_hub) (3.16.0)\n",
      "Requirement already satisfied: fsspec>=2023.5.0 in c:\\users\\dell\\appdata\\local\\programs\\python\\python312\\lib\\site-packages (from huggingface_hub) (2024.9.0)\n",
      "Requirement already satisfied: packaging>=20.9 in c:\\users\\dell\\appdata\\local\\programs\\python\\python312\\lib\\site-packages (from huggingface_hub) (24.1)\n",
      "Requirement already satisfied: pyyaml>=5.1 in c:\\users\\dell\\appdata\\local\\programs\\python\\python312\\lib\\site-packages (from huggingface_hub) (6.0.1)\n",
      "Requirement already satisfied: requests in c:\\users\\dell\\appdata\\local\\programs\\python\\python312\\lib\\site-packages (from huggingface_hub) (2.32.3)\n",
      "Requirement already satisfied: tqdm>=4.42.1 in c:\\users\\dell\\appdata\\local\\programs\\python\\python312\\lib\\site-packages (from huggingface_hub) (4.66.5)\n",
      "Requirement already satisfied: typing-extensions>=3.7.4.3 in c:\\users\\dell\\appdata\\local\\programs\\python\\python312\\lib\\site-packages (from huggingface_hub) (4.12.2)\n",
      "Requirement already satisfied: colorama in c:\\users\\dell\\appdata\\local\\programs\\python\\python312\\lib\\site-packages (from tqdm>=4.42.1->huggingface_hub) (0.4.6)\n",
      "Requirement already satisfied: charset-normalizer<4,>=2 in c:\\users\\dell\\appdata\\local\\programs\\python\\python312\\lib\\site-packages (from requests->huggingface_hub) (3.3.2)\n",
      "Requirement already satisfied: idna<4,>=2.5 in c:\\users\\dell\\appdata\\local\\programs\\python\\python312\\lib\\site-packages (from requests->huggingface_hub) (3.7)\n",
      "Requirement already satisfied: urllib3<3,>=1.21.1 in c:\\users\\dell\\appdata\\local\\programs\\python\\python312\\lib\\site-packages (from requests->huggingface_hub) (2.2.2)\n",
      "Requirement already satisfied: certifi>=2017.4.17 in c:\\users\\dell\\appdata\\local\\programs\\python\\python312\\lib\\site-packages (from requests->huggingface_hub) (2024.7.4)\n",
      "Note: you may need to restart the kernel to use updated packages.\n"
     ]
    },
    {
     "name": "stderr",
     "output_type": "stream",
     "text": [
      "\n",
      "[notice] A new release of pip is available: 24.0 -> 24.3.1\n",
      "[notice] To update, run: python.exe -m pip install --upgrade pip\n"
     ]
    }
   ],
   "source": [
    "pip install huggingface_hub"
   ]
  },
  {
   "cell_type": "code",
   "execution_count": 14,
   "id": "73200f9c-29db-4158-9633-366ef0672f3c",
   "metadata": {},
   "outputs": [],
   "source": [
    "import time\n",
    "import pyaudio\n",
    "import wave\n",
    "import speech_recognition as sr\n",
    "from transformers import pipeline\n",
    "import gspread\n",
    "from oauth2client.service_account import ServiceAccountCredentials"
   ]
  },
  {
   "cell_type": "code",
   "execution_count": 15,
   "id": "77da163c-348c-4451-b9a1-bf0481d176d8",
   "metadata": {},
   "outputs": [],
   "source": [
    "class GoogleSheetsIntegration:\n",
    "    def __init__(self, credentials_path):\n",
    "        scope = [\n",
    "            'https://www.googleapis.com/auth/spreadsheets',\n",
    "            'https://www.googleapis.com/auth/drive'\n",
    "        ]\n",
    "        self.creds = ServiceAccountCredentials.from_json_keyfile_name(credentials_path, scope)\n",
    "        self.client = gspread.authorize(self.creds)\n",
    "\n",
    "    def append_row(self, spreadsheet_id, data):\n",
    "        try:\n",
    "            sheet = self.client.open_by_key(spreadsheet_id).sheet1\n",
    "            sheet.append_row(data)\n",
    "        except Exception as e:\n",
    "            print(f\"Error appending row: {e}\")"
   ]
  },
  {
   "cell_type": "code",
   "execution_count": 16,
   "id": "237ca74b-e5d4-46ab-bdda-43541cc28e39",
   "metadata": {},
   "outputs": [],
   "source": [
    "def record_audio_chunk(chunk_duration=4, file_name=\"buyer_audio.wav\"):\n",
    "    \"\"\"Records a chunk of audio for the specified duration.\"\"\"\n",
    "    chunk = 1024\n",
    "    sample_format = pyaudio.paInt16\n",
    "    channels = 1\n",
    "    rate = 44100\n",
    "\n",
    "    p = pyaudio.PyAudio()\n",
    "    stream = p.open(format=sample_format,\n",
    "                    channels=channels,\n",
    "                    rate=rate,\n",
    "                    input=True,\n",
    "                    frames_per_buffer=chunk)\n",
    "\n",
    "    print(\"Listening for the buyer's input...\")\n",
    "    frames = []\n",
    "\n",
    "    for _ in range(0, int(rate / chunk * chunk_duration)):\n",
    "        data = stream.read(chunk)\n",
    "        frames.append(data)\n",
    "\n",
    "    stream.stop_stream()\n",
    "    stream.close()\n",
    "    p.terminate()\n",
    "\n",
    "    wf = wave.open(file_name, 'wb')\n",
    "    wf.setnchannels(channels)\n",
    "    wf.setsampwidth(p.get_sample_size(sample_format))\n",
    "    wf.setframerate(rate)\n",
    "    wf.writeframes(b''.join(frames))\n",
    "    wf.close()\n",
    "\n",
    "    return file_name"
   ]
  },
  {
   "cell_type": "code",
   "execution_count": 17,
   "id": "fda6d794-260b-4020-9731-c74678013a87",
   "metadata": {},
   "outputs": [],
   "source": [
    "def transcribe_audio(file_name=\"buyer_audio.wav\"):\n",
    "    \"\"\"Transcribes audio to text using Google Speech Recognition.\"\"\"\n",
    "    recognizer = sr.Recognizer()\n",
    "    with sr.AudioFile(file_name) as source:\n",
    "        print(\"Processing audio transcription...\")\n",
    "        audio_data = recognizer.record(source)\n",
    "        try:\n",
    "            text = recognizer.recognize_google(audio_data)\n",
    "            print(f\"Transcription: {text}\")\n",
    "            return text\n",
    "        except sr.UnknownValueError:\n",
    "            print(\"No clear speech detected in the last chunk.\")\n",
    "            return \"\"\n",
    "        except sr.RequestError as e:\n",
    "            print(f\"Error in request: {e}\")\n",
    "            return \"\""
   ]
  },
  {
   "cell_type": "code",
   "execution_count": 30,
   "id": "833a3c38-34f0-4539-b39e-6b53775bc90f",
   "metadata": {},
   "outputs": [],
   "source": [
    "def analyze_sentiment(text):\n",
    "    \"\"\"Analyzes the sentiment of the given text.\"\"\"\n",
    "    sentiment_pipeline = pipeline(\"sentiment-analysis\", model=\"cardiffnlp/twitter-roberta-base-sentiment\")\n",
    "    \n",
    "    # Define a mapping from model labels to human-readable labels\n",
    "    label_mapping = {\n",
    "        \"LABEL_0\": \"Negative\",\n",
    "        \"LABEL_1\": \"Neutral\",\n",
    "        \"LABEL_2\": \"Positive\"\n",
    "    }\n",
    "    \n",
    "    sentiment_result = sentiment_pipeline(text)[0]\n",
    "    human_readable_label = label_mapping[sentiment_result[\"label\"]]\n",
    "    \n",
    "    return human_readable_label\n",
    "def analyze_intent(text):\n",
    "    \"\"\"Analyzes the intent of the given text.\"\"\"\n",
    "    intent_model = pipeline(\"zero-shot-classification\", model=\"facebook/bart-large-mnli\")\n",
    "    candidate_labels =  [\"Greeting\", \"Inquiry\", \"Giving Feedback\", \"Willing to Buy\", \"Not Interested\"]\n",
    "    result = intent_model(text, candidate_labels)\n",
    "    return result['labels'][0]"
   ]
  },
  {
   "cell_type": "code",
   "execution_count": 33,
   "id": "d63f6b60-ea63-4b92-96c9-ec7c4ca8011c",
   "metadata": {},
   "outputs": [],
   "source": [
    "def generate_negotiation_terms(sentiment, intent, context):\n",
    "    if intent == \"Greeting\":\n",
    "        return \"Thank you for reaching out! How can I assist you today?\"\n",
    "    elif intent == \"Inquiry\":\n",
    "        if \"price\" in context or \"discount\" in context:\n",
    "            if sentiment == \"Neutral\":\n",
    "                return \"We can explore potential discounts or payment plans that suit your preferences. How would you like to proceed?\"\n",
    "            elif sentiment == \"Positive\":\n",
    "                return \"We’d love to work out a price that meets your expectations. Let’s discuss further!\"\n",
    "            else:\n",
    "                return \"While our pricing is competitive, we can offer additional perks or flexible payment options to make this work for you.\"\n",
    "        else:\n",
    "            return \"Let me provide more details about the product. Please feel free to ask any specific questions you have.\"\n",
    "    elif intent == \"Giving Feedback\":\n",
    "        if sentiment == \"Positive\":\n",
    "            return \"Thank you for your positive feedback! We're here to help if you have any further questions or concerns.\"\n",
    "        else:\n",
    "            return \"We value your feedback and will work on addressing your concerns. Please let us know if there’s anything specific we can do to assist you.\"\n",
    "    elif intent == \"Willing to Buy\":\n",
    "        if sentiment == \"Positive\":\n",
    "            return \"That's wonderful to hear! Let’s finalize the details and get everything ready for you.\"\n",
    "        elif sentiment == \"Neutral\":\n",
    "            return \"We’re glad to hear you’re considering it! Let’s discuss the next steps and how we can make this process easier for you.\"\n",
    "        else:\n",
    "            return \"We appreciate your interest. Let’s address any remaining concerns to move forward confidently.\"\n",
    "    elif intent == \"Not Interested\":\n",
    "        if sentiment == \"Negative\":\n",
    "            return \"We understand that this might not meet your expectations. If there’s anything else you’re looking for, let us know—we’re happy to assist!\"\n",
    "        else:\n",
    "            return \"Thank you for letting us know. If you change your mind or have any other requirements, feel free to reach out!\"\n",
    "    else:\n",
    "        return \"Thank you for sharing your thoughts. How can we assist you further?\""
   ]
  },
  {
   "cell_type": "code",
   "execution_count": 34,
   "id": "619148e0-4585-4b1d-8b39-a48fd0cba5c9",
   "metadata": {},
   "outputs": [
    {
     "name": "stdout",
     "output_type": "stream",
     "text": [
      "Starting continuous buyer interaction...\n",
      "Listening for the buyer's input...\n",
      "Processing audio transcription...\n",
      "Transcription: do you offer any discounts\n",
      "\n",
      "Buyer Transcription: do you offer any discounts\n",
      "Sentiment: Neutral\n",
      "Intent: Inquiry\n",
      "Negotiation Terms: We can explore potential discounts or payment plans that suit your preferences. How would you like to proceed?\n",
      "Interaction logged in Google Sheets.\n",
      "Waiting for the next interaction...\n",
      "\n"
     ]
    },
    {
     "ename": "KeyboardInterrupt",
     "evalue": "",
     "output_type": "error",
     "traceback": [
      "\u001b[1;31m---------------------------------------------------------------------------\u001b[0m",
      "\u001b[1;31mKeyboardInterrupt\u001b[0m                         Traceback (most recent call last)",
      "Cell \u001b[1;32mIn[34], line 52\u001b[0m\n\u001b[0;32m     48\u001b[0m        time\u001b[38;5;241m.\u001b[39msleep(\u001b[38;5;241m4\u001b[39m)  \u001b[38;5;66;03m# Wait for the next input\u001b[39;00m\n\u001b[0;32m     51\u001b[0m \u001b[38;5;28;01mif\u001b[39;00m \u001b[38;5;18m__name__\u001b[39m \u001b[38;5;241m==\u001b[39m \u001b[38;5;124m\"\u001b[39m\u001b[38;5;124m__main__\u001b[39m\u001b[38;5;124m\"\u001b[39m:\n\u001b[1;32m---> 52\u001b[0m    \u001b[43mmain\u001b[49m\u001b[43m(\u001b[49m\u001b[43m)\u001b[49m\n",
      "Cell \u001b[1;32mIn[34], line 48\u001b[0m, in \u001b[0;36mmain\u001b[1;34m()\u001b[0m\n\u001b[0;32m     45\u001b[0m \u001b[38;5;28mprint\u001b[39m(\u001b[38;5;124m\"\u001b[39m\u001b[38;5;124mInteraction logged in Google Sheets.\u001b[39m\u001b[38;5;124m\"\u001b[39m)\n\u001b[0;32m     46\u001b[0m \u001b[38;5;28mprint\u001b[39m(\u001b[38;5;124m\"\u001b[39m\u001b[38;5;124mWaiting for the next interaction...\u001b[39m\u001b[38;5;130;01m\\n\u001b[39;00m\u001b[38;5;124m\"\u001b[39m)\n\u001b[1;32m---> 48\u001b[0m \u001b[43mtime\u001b[49m\u001b[38;5;241;43m.\u001b[39;49m\u001b[43msleep\u001b[49m\u001b[43m(\u001b[49m\u001b[38;5;241;43m4\u001b[39;49m\u001b[43m)\u001b[49m\n",
      "\u001b[1;31mKeyboardInterrupt\u001b[0m: "
     ]
    }
   ],
   "source": [
    " def main():\n",
    "    \"\"\"Main workflow for continuous buyer interaction.\"\"\"\n",
    "    credentials_path = \"credentials.json\"  # Path to your Google credentials file\n",
    "    spreadsheet_id = \"1I3lanT_YNQ9GELA18oXhDLY2msww5uwOvHlx92uync8\"  # Replace with your spreadsheet ID\n",
    "\n",
    "    sheets_integration = GoogleSheetsIntegration(credentials_path)\n",
    "\n",
    "    print(\"Starting continuous buyer interaction...\")\n",
    "\n",
    "    while True:\n",
    "        # Record a chunk of audio\n",
    "        audio_file = record_audio_chunk()\n",
    "\n",
    "        # Transcribe the audio\n",
    "        transcribed_text = transcribe_audio(audio_file)\n",
    "        if not transcribed_text:\n",
    "            print(\"Waiting for the next buyer input...\\n\")\n",
    "            time.sleep(4)  # Pause to wait for the buyer to speak\n",
    "            continue\n",
    "\n",
    "        # Analyze sentiment and intent\n",
    "        sentiment = analyze_sentiment(transcribed_text)\n",
    "        intent = analyze_intent(transcribed_text)\n",
    "\n",
    "        # Generate negotiation terms\n",
    "        negotiation_terms = generate_negotiation_terms(sentiment, intent, transcribed_text)\n",
    "\n",
    "        # Log results in Google Sheets\n",
    "        sheets_integration.append_row(\n",
    "            spreadsheet_id,\n",
    "            [\n",
    "                time.strftime(\"%Y-%m-%d %H:%M:%S\"),  # Timestamp\n",
    "                transcribed_text,\n",
    "                sentiment,\n",
    "                intent,\n",
    "                negotiation_terms\n",
    "            ]\n",
    "        )\n",
    "\n",
    "        # Print interaction details\n",
    "        print(\"\\nBuyer Transcription:\", transcribed_text)\n",
    "        print(\"Sentiment:\", sentiment)\n",
    "        print(\"Intent:\", intent)\n",
    "        print(\"Negotiation Terms:\", negotiation_terms)\n",
    "        print(\"Interaction logged in Google Sheets.\")\n",
    "        print(\"Waiting for the next interaction...\\n\")\n",
    "\n",
    "        time.sleep(4)  # Wait for the next input\n",
    "\n",
    "\n",
    "if __name__ == \"__main__\":\n",
    "    main()"
   ]
  }
 ],
 "metadata": {
  "kernelspec": {
   "display_name": "Python 3 (ipykernel)",
   "language": "python",
   "name": "python3"
  },
  "language_info": {
   "codemirror_mode": {
    "name": "ipython",
    "version": 3
   },
   "file_extension": ".py",
   "mimetype": "text/x-python",
   "name": "python",
   "nbconvert_exporter": "python",
   "pygments_lexer": "ipython3",
   "version": "3.12.4"
  }
 },
 "nbformat": 4,
 "nbformat_minor": 5
}
